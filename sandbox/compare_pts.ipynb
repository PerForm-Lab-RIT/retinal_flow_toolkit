{
 "cells": [
  {
   "cell_type": "code",
   "execution_count": 1,
   "metadata": {},
   "outputs": [],
   "source": [
    "# 2023 Gabriel J. Diaz @ RIT\n",
    "\n",
    "import os\n",
    "import sys\n",
    "import numpy as np\n",
    "import av\n",
    "import logging\n",
    "import pickle\n",
    "from tqdm import tqdm\n",
    "\n",
    "import matplotlib.pyplot as plt\n",
    "from matplotlib.backends.backend_agg import FigureCanvasAgg as FigureCanvas\n",
    "from pathlib import Path, PurePath, PurePosixPath\n",
    "\n",
    "\n",
    "logger = logging.getLogger(__name__)\n",
    "logger.addHandler(logging.StreamHandler(stream=sys.stdout))\n"
   ]
  },
  {
   "cell_type": "code",
   "execution_count": 2,
   "metadata": {},
   "outputs": [],
   "source": [
    "    \n",
    "# file_path = Path('D:\\\\Github\\\\retinal_flow_toolkit\\\\videos\\\\Yoyo-LVRA.mp4')\n",
    "\n",
    "file_path_a = 'testVid.mp4'\n",
    "file_path_b = 'testVid_tvl1_hsv_overlay.mp4'\n",
    "file_path_c = 'testVid_tvl1_hsv_notpts.mp4'\n",
    "\n",
    "# file_path_a = PurePath('D:\\\\Github\\\\retinal_flow_toolkit\\\\sandbox\\\\cb1_original.mp4')\n",
    "# file_path_b = PurePath('D:\\\\Github\\\\retinal_flow_toolkit\\\\sandbox\\\\cb1_flow.mp4')\n"
   ]
  },
  {
   "cell_type": "code",
   "execution_count": 3,
   "metadata": {},
   "outputs": [],
   "source": [
    "def get_timing_info(file_path):\n",
    "\n",
    "    container_in = av.open(file_path, mode=\"r\", timeout = None)\n",
    "    time_base_out = container_in.streams.video[0].time_base\n",
    "    num_frames = container_in.streams.video[0].frames\n",
    "    average_fps = container_in.streams.video[0].average_rate\n",
    "    \n",
    "    container_out = av.open('vid_out.mp4', mode=\"w\", timeout = None)\n",
    "    stream = container_out.add_stream(\"libx264\", framerate = average_fps)\n",
    "    stream.options[\"crf\"] = \"20\"\n",
    "    stream.pix_fmt = container_in.streams.video[0].pix_fmt\n",
    "    stream.time_base = container_in.streams.video[0].time_base\n",
    "\n",
    "    packet_pts_out = []\n",
    "    pts_out = []\n",
    "    dts_out = []\n",
    "    frame_time_base_out = []\n",
    "    relative_time_out = []\n",
    "    \n",
    "    count = 0\n",
    "    \n",
    "    #for raw_frame in container_in.decode(video=0):\n",
    "    for raw_frame in tqdm(container_in.decode(video=0), desc=\"Working.\", unit= 'frames',total = num_frames):\n",
    "            \n",
    "        pts_out.append(raw_frame.pts)\n",
    "        dts_out.append(raw_frame.dts)\n",
    "        frame_time_base_out.append(raw_frame.time_base)\n",
    "        relative_time_out.append( np.float32(raw_frame.pts * raw_frame.time_base) )\n",
    "        \n",
    "        for packet in stream.encode(raw_frame):\n",
    "            packet_pts_out.append((raw_frame.pts, packet.pts))\n",
    "            container_out.mux(packet)\n",
    "        \n",
    "        count = count+1\n",
    "        \n",
    "    \n",
    "    for packet in stream.encode(raw_frame):\n",
    "        container_out.mux(packet)\n",
    "                \n",
    "    print('Time base ' + str( container_in.streams.video[0].time_base))\n",
    "    print('Num frames ' + str(container_in.streams.video[0].frames))\n",
    "    print('Avg rate ' + str(container_in.streams.video[0].average_rate))\n",
    "    print('Start time ' + str(container_in.start_time))\n",
    "    print('Duration ' + str(container_in.duration))\n",
    "\n",
    "    container_in.close()\n",
    "    container_out.close()\n",
    "    return time_base_out, pts_out, dts_out, packet_pts_out"
   ]
  },
  {
   "cell_type": "code",
   "execution_count": 4,
   "metadata": {},
   "outputs": [],
   "source": [
    "# container_out = av.open(file_path_b, mode=\"r\", timeout = None)    "
   ]
  },
  {
   "cell_type": "code",
   "execution_count": null,
   "metadata": {},
   "outputs": [],
   "source": []
  },
  {
   "cell_type": "code",
   "execution_count": 5,
   "metadata": {},
   "outputs": [],
   "source": [
    "def set_timing_info(filename_in, filename_out, pts, dts, time_base):\n",
    "\n",
    "    container_in = av.open(filename_in)\n",
    "    average_fps = container_in.streams.video[0].average_rate\n",
    "    num_frames = container_in.streams.video[0].frames\n",
    "    time_base = container_in.streams.video[0].time_base\n",
    "    encoded_frame_count = container_in.streams.video[0].encoded_frame_count\n",
    "    # container_in.sort_dts = True\n",
    "    # container_in.flush_packets = True\n",
    "    # container_in.streams.video[0].codec_context.skip_frame = \"NONKEY\"\n",
    "    \n",
    "    container_out = av.open(filename_out, mode=\"w\", timeout = None)\n",
    "\n",
    "    stream = container_out.add_stream(\"libx264\", framerate = average_fps)\n",
    "    stream.options[\"crf\"] = \"20\"\n",
    "    stream.pix_fmt = container_in.streams.video[0].pix_fmt\n",
    "    stream.time_base = container_in.streams.video[0].time_base\n",
    "    \n",
    "    idx = 0\n",
    "    \n",
    "    for raw_frame in tqdm(container_in.decode(video=0), desc=\"Working.\", unit= 'frames',total = num_frames):\n",
    "\n",
    "        raw_frame.pts = pts[idx]\n",
    "        raw_frame.time_base = pts[idx]\n",
    "        # raw_frame.dts = dts[idx]\n",
    "        \n",
    "        for packet in stream.encode(raw_frame):\n",
    "            packet.stream = stream\n",
    "            packet.time_base = time_base\n",
    "            packet.pts = pts[idx]\n",
    "            packet.pts = dts[idx]\n",
    "            container_out.mux(packet)\n",
    "        \n",
    "        idx = idx + 1\n",
    "\n",
    "    # # Flush stream\n",
    "    for packet in stream.encode():\n",
    "        \n",
    "        packet.stream = stream\n",
    "        packet.time_base = time_base\n",
    "        packet.pts = pts[idx]\n",
    "        container_out.mux(packet)\n",
    "\n",
    "\n",
    "    container_in.close()\n",
    "    container_out.close()"
   ]
  },
  {
   "cell_type": "code",
   "execution_count": 6,
   "metadata": {},
   "outputs": [
    {
     "name": "stderr",
     "output_type": "stream",
     "text": [
      "Working.: 100%|███████████████████████████████████████████████████████████████████████████████████████████████████████| 2333/2333 [00:05<00:00, 443.11frames/s]\n",
      "non-strictly-monotonic PTS\n"
     ]
    },
    {
     "name": "stdout",
     "output_type": "stream",
     "text": [
      "Time base 1/65535\n",
      "Num frames 2333\n",
      "Avg rate 152893155/2662726\n",
      "Start time 16999\n",
      "Duration 40631000\n"
     ]
    },
    {
     "name": "stderr",
     "output_type": "stream",
     "text": [
      "Working.:   0%|                                                                                                                   | 0/2293 [00:00<?, ?frames/s]Packet corrupt (stream = 0, dts = 54216)\n",
      ".\n",
      "Invalid NAL unit size (4025 > 1336).\n",
      "Error splitting the input into NAL units.\n",
      "Working.:   2%|██                                                                                                      | 46/2293 [00:00<00:01, 1472.07frames/s]\n"
     ]
    },
    {
     "ename": "InvalidDataError",
     "evalue": "[Errno 1094995529] Invalid data found when processing input; last error log: [h264] Error splitting the input into NAL units.",
     "output_type": "error",
     "traceback": [
      "\u001B[1;31m---------------------------------------------------------------------------\u001B[0m",
      "\u001B[1;31mInvalidDataError\u001B[0m                          Traceback (most recent call last)",
      "\u001B[1;32m~\\AppData\\Local\\Temp\\ipykernel_27596\\813159301.py\u001B[0m in \u001B[0;36m<cell line: 2>\u001B[1;34m()\u001B[0m\n\u001B[0;32m      1\u001B[0m \u001B[0mtime_base_a\u001B[0m\u001B[1;33m,\u001B[0m \u001B[0mpts_a\u001B[0m\u001B[1;33m,\u001B[0m \u001B[0mdts_a\u001B[0m\u001B[1;33m,\u001B[0m \u001B[0mpacket_pts_out_a\u001B[0m \u001B[1;33m=\u001B[0m \u001B[0mget_timing_info\u001B[0m\u001B[1;33m(\u001B[0m\u001B[0mfile_path_a\u001B[0m\u001B[1;33m)\u001B[0m\u001B[1;33m\u001B[0m\u001B[1;33m\u001B[0m\u001B[0m\n\u001B[1;32m----> 2\u001B[1;33m \u001B[0mtime_base_d\u001B[0m\u001B[1;33m,\u001B[0m \u001B[0mpts_d\u001B[0m\u001B[1;33m,\u001B[0m \u001B[0mdts_d\u001B[0m\u001B[1;33m,\u001B[0m \u001B[0mpacket_pts_out_d\u001B[0m \u001B[1;33m=\u001B[0m \u001B[0mget_timing_info\u001B[0m\u001B[1;33m(\u001B[0m\u001B[1;34m'vid_out.mp4'\u001B[0m\u001B[1;33m)\u001B[0m\u001B[1;33m\u001B[0m\u001B[1;33m\u001B[0m\u001B[0m\n\u001B[0m",
      "\u001B[1;32m~\\AppData\\Local\\Temp\\ipykernel_27596\\87994647.py\u001B[0m in \u001B[0;36mget_timing_info\u001B[1;34m(file_path)\u001B[0m\n\u001B[0;32m     21\u001B[0m \u001B[1;33m\u001B[0m\u001B[0m\n\u001B[0;32m     22\u001B[0m     \u001B[1;31m#for raw_frame in container_in.decode(video=0):\u001B[0m\u001B[1;33m\u001B[0m\u001B[1;33m\u001B[0m\u001B[1;33m\u001B[0m\u001B[0m\n\u001B[1;32m---> 23\u001B[1;33m     \u001B[1;32mfor\u001B[0m \u001B[0mraw_frame\u001B[0m \u001B[1;32min\u001B[0m \u001B[0mtqdm\u001B[0m\u001B[1;33m(\u001B[0m\u001B[0mcontainer_in\u001B[0m\u001B[1;33m.\u001B[0m\u001B[0mdecode\u001B[0m\u001B[1;33m(\u001B[0m\u001B[0mvideo\u001B[0m\u001B[1;33m=\u001B[0m\u001B[1;36m0\u001B[0m\u001B[1;33m)\u001B[0m\u001B[1;33m,\u001B[0m \u001B[0mdesc\u001B[0m\u001B[1;33m=\u001B[0m\u001B[1;34m\"Working.\"\u001B[0m\u001B[1;33m,\u001B[0m \u001B[0munit\u001B[0m\u001B[1;33m=\u001B[0m \u001B[1;34m'frames'\u001B[0m\u001B[1;33m,\u001B[0m\u001B[0mtotal\u001B[0m \u001B[1;33m=\u001B[0m \u001B[0mnum_frames\u001B[0m\u001B[1;33m)\u001B[0m\u001B[1;33m:\u001B[0m\u001B[1;33m\u001B[0m\u001B[1;33m\u001B[0m\u001B[0m\n\u001B[0m\u001B[0;32m     24\u001B[0m \u001B[1;33m\u001B[0m\u001B[0m\n\u001B[0;32m     25\u001B[0m         \u001B[0mpts_out\u001B[0m\u001B[1;33m.\u001B[0m\u001B[0mappend\u001B[0m\u001B[1;33m(\u001B[0m\u001B[0mraw_frame\u001B[0m\u001B[1;33m.\u001B[0m\u001B[0mpts\u001B[0m\u001B[1;33m)\u001B[0m\u001B[1;33m\u001B[0m\u001B[1;33m\u001B[0m\u001B[0m\n",
      "\u001B[1;32m~\\anaconda3\\envs\\py38\\lib\\site-packages\\tqdm\\std.py\u001B[0m in \u001B[0;36m__iter__\u001B[1;34m(self)\u001B[0m\n\u001B[0;32m   1193\u001B[0m \u001B[1;33m\u001B[0m\u001B[0m\n\u001B[0;32m   1194\u001B[0m         \u001B[1;32mtry\u001B[0m\u001B[1;33m:\u001B[0m\u001B[1;33m\u001B[0m\u001B[1;33m\u001B[0m\u001B[0m\n\u001B[1;32m-> 1195\u001B[1;33m             \u001B[1;32mfor\u001B[0m \u001B[0mobj\u001B[0m \u001B[1;32min\u001B[0m \u001B[0miterable\u001B[0m\u001B[1;33m:\u001B[0m\u001B[1;33m\u001B[0m\u001B[1;33m\u001B[0m\u001B[0m\n\u001B[0m\u001B[0;32m   1196\u001B[0m                 \u001B[1;32myield\u001B[0m \u001B[0mobj\u001B[0m\u001B[1;33m\u001B[0m\u001B[1;33m\u001B[0m\u001B[0m\n\u001B[0;32m   1197\u001B[0m                 \u001B[1;31m# Update and possibly print the progressbar.\u001B[0m\u001B[1;33m\u001B[0m\u001B[1;33m\u001B[0m\u001B[1;33m\u001B[0m\u001B[0m\n",
      "\u001B[1;32mav/container/input.pyx\u001B[0m in \u001B[0;36mdecode\u001B[1;34m()\u001B[0m\n",
      "\u001B[1;32mav/packet.pyx\u001B[0m in \u001B[0;36mav.packet.Packet.decode\u001B[1;34m()\u001B[0m\n",
      "\u001B[1;32mav/stream.pyx\u001B[0m in \u001B[0;36mav.stream.Stream.decode\u001B[1;34m()\u001B[0m\n",
      "\u001B[1;32mav/codec/context.pyx\u001B[0m in \u001B[0;36mav.codec.context.CodecContext.decode\u001B[1;34m()\u001B[0m\n",
      "\u001B[1;32mav/codec/context.pyx\u001B[0m in \u001B[0;36mav.codec.context.CodecContext._send_packet_and_recv\u001B[1;34m()\u001B[0m\n",
      "\u001B[1;32mav/error.pyx\u001B[0m in \u001B[0;36mav.error.err_check\u001B[1;34m()\u001B[0m\n",
      "\u001B[1;31mInvalidDataError\u001B[0m: [Errno 1094995529] Invalid data found when processing input; last error log: [h264] Error splitting the input into NAL units."
     ]
    }
   ],
   "source": [
    "time_base_a, pts_a, dts_a, packet_pts_out_a = get_timing_info(file_path_a)\n",
    "time_base_d, pts_d, dts_d, packet_pts_out_d = get_timing_info('vid_out.mp4')"
   ]
  },
  {
   "cell_type": "code",
   "execution_count": null,
   "metadata": {
    "scrolled": true
   },
   "outputs": [],
   "source": [
    "packet_pts_out_a[:20]"
   ]
  },
  {
   "cell_type": "code",
   "execution_count": null,
   "metadata": {},
   "outputs": [],
   "source": [
    "set_timing_info(file_path_b, 'remuxed.mp4', pts_a, dts_a, time_base_a)"
   ]
  },
  {
   "cell_type": "code",
   "execution_count": null,
   "metadata": {},
   "outputs": [],
   "source": [
    "packet_pts_out[:10]"
   ]
  },
  {
   "cell_type": "code",
   "execution_count": null,
   "metadata": {},
   "outputs": [],
   "source": [
    "time_base_b, pts_b, dts_b = get_timing_info(file_path_b)"
   ]
  },
  {
   "cell_type": "code",
   "execution_count": null,
   "metadata": {},
   "outputs": [],
   "source": [
    "time_base_c, pts_c, dts_c = get_timing_info(file_path_c)"
   ]
  },
  {
   "cell_type": "code",
   "execution_count": null,
   "metadata": {},
   "outputs": [],
   "source": [
    "print(len(pts_a))\n",
    "print(len(pts_b))\n",
    "print(len(pts_c))"
   ]
  },
  {
   "cell_type": "code",
   "execution_count": null,
   "metadata": {},
   "outputs": [],
   "source": [
    "# plt.rc('xtick', labelsize=20) \n",
    "# plt.rc('ytick', labelsize=20) \n",
    "\n",
    "# dts_a = np.array(dts_a,dtype=np.float32)\n",
    "# dts_b = np.array(dts_b,dtype=np.float32)\n",
    "\n",
    "# fig, ax = plt.subplots(figsize=(15, 10), layout='constrained',dpi=300)\n",
    "\n",
    "# a_time = np.array(pts_a) * float(time_base_a)\n",
    "# b_time = np.array(pts_b) * float(time_base_b)\n",
    "# c_time = np.array(pts_c) * float(time_base_c)\n",
    "\n",
    "# plt.subplot(1,1,1)\n",
    "# plt.plot(np.arange(0,len(a_time[1:])) ,a_time[1:]-b_time,'r')\n",
    "# plt.plot(np.arange(0,len(a_time[1:])) ,a_time[1:]-c_time,':b')\n",
    "\n",
    "# plt.ylabel('time')\n",
    "# plt.xlabel('pts * time_base')\n",
    "# plt.legend(['original','transcoded'])\n",
    "\n",
    "# # plt.subplot(2,1,2)\n",
    "# # plt.plot(np.arange(0,len(dts_a)) ,np.array(dts_a) * float(time_base_a),'r')\n",
    "# # plt.plot(np.arange(0,len(dts_b)) ,np.array(dts_b) * float(time_base_b),':b')\n",
    "# # plt.plot(np.arange(0,len(dts_c)) ,np.array(dts_c) * float(time_base_c),':g')\n",
    "\n",
    "# plt.ylabel('time')\n",
    "# plt.xlabel('dts * time_base')\n",
    "# plt.legend(['original','transcoded'])\n",
    "\n",
    "# plt.savefig( 'frame_timings.png')\n",
    "\n"
   ]
  },
  {
   "cell_type": "code",
   "execution_count": null,
   "metadata": {},
   "outputs": [],
   "source": []
  },
  {
   "cell_type": "code",
   "execution_count": null,
   "metadata": {
    "pycharm": {
     "name": "#%%\n"
    }
   },
   "outputs": [],
   "source": [
    "plt.rc('xtick', labelsize=20) \n",
    "plt.rc('ytick', labelsize=20) \n",
    "\n",
    "dts_a = np.array(dts_a,dtype=np.float32)\n",
    "dts_b = np.array(dts_b,dtype=np.float32)\n",
    "\n",
    "fig, ax = plt.subplots(figsize=(15, 10), layout='constrained',dpi=300)\n",
    "\n",
    "plt.subplot(2,1,1)\n",
    "plt.plot(np.arange(0,len(pts_a)) ,np.array(pts_a) * float(time_base_a),'r')\n",
    "plt.plot(np.arange(0,len(pts_b)) ,np.array(pts_b) * float(time_base_b),':b')\n",
    "plt.plot(np.arange(0,len(pts_c)) ,np.array(pts_c) * float(time_base_c),':g')\n",
    "plt.ylabel('time')\n",
    "plt.xlabel('pts * time_base')\n",
    "plt.legend(['original','transcoded'])\n",
    "\n",
    "plt.subplot(2,1,2)\n",
    "plt.plot(np.arange(0,len(dts_a)) ,np.array(dts_a) * float(time_base_a),'r')\n",
    "plt.plot(np.arange(0,len(dts_b)) ,np.array(dts_b) * float(time_base_b),':b')\n",
    "\n",
    "# plt.plot(np.arange(0,len(dts_c)) ,np.array(dts_c) * float(time_base_c),':g')\n",
    "\n",
    "plt.ylabel('time')\n",
    "plt.xlabel('dts * time_base')\n",
    "plt.legend(['original','transcoded'])\n",
    "\n",
    "plt.savefig( 'frame_timings.png')\n",
    "\n"
   ]
  },
  {
   "cell_type": "code",
   "execution_count": null,
   "metadata": {},
   "outputs": [],
   "source": [
    "container_out = av.open(file_path_b, mode=\"w\", timeout = None)"
   ]
  },
  {
   "cell_type": "code",
   "execution_count": null,
   "metadata": {},
   "outputs": [],
   "source": [
    "container_out.options"
   ]
  }
 ],
 "metadata": {
  "kernelspec": {
   "display_name": "Python 3 (ipykernel)",
   "language": "python",
   "name": "python3"
  },
  "language_info": {
   "codemirror_mode": {
    "name": "ipython",
    "version": 3
   },
   "file_extension": ".py",
   "mimetype": "text/x-python",
   "name": "python",
   "nbconvert_exporter": "python",
   "pygments_lexer": "ipython3",
   "version": "3.8.15"
  }
 },
 "nbformat": 4,
 "nbformat_minor": 1
}