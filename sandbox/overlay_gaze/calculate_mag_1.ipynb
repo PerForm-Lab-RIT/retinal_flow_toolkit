{
 "cells": [
  {
   "cell_type": "code",
   "execution_count": 1,
   "metadata": {},
   "outputs": [],
   "source": [
    "# 2023 Gabriel J. Diaz @ RIT\n",
    "\n",
    "import os\n",
    "import sys\n",
    "import numpy as np\n",
    "import av\n",
    "import logging\n",
    "import pickle\n",
    "from tqdm import tqdm\n",
    "\n",
    "\n",
    "import matplotlib.pyplot as plt\n",
    "from matplotlib.backends.backend_agg import FigureCanvasAgg as FigureCanvas\n",
    "from pathlib import Path, PurePath\n",
    "\n",
    "import sys\n",
    "sys.path.append('../..')\n",
    "from flow_source import *\n",
    "\n",
    "logger = logging.getLogger(__name__)\n",
    "logger.addHandler(logging.StreamHandler(stream=sys.stdout))"
   ]
  },
  {
   "cell_type": "code",
   "execution_count": 2,
   "metadata": {},
   "outputs": [],
   "source": [
    "a_file_path = Path(os.path.join('..','..','pupil_labs_data','GD-Short-Driving-Video'))\n",
    "#a_file_path = Path(os.path.join('..','..','pupil_labs_data','cb13'))\n",
    "a_file_path\n",
    "source = pupil_labs_source(a_file_path)"
   ]
  },
  {
   "cell_type": "code",
   "execution_count": 3,
   "metadata": {},
   "outputs": [],
   "source": [
    "def set_video_target(self, file_path = False):\n",
    "    \n",
    "    if not file_path:\n",
    "        \n",
    "        Tk().withdraw()  # we don't want a full GUI, so keep the root window from appearing\n",
    "        file_path = askopenfilename(title=\"Select the video on which to overlay gaze\",\n",
    "                                               initialdir=self.recording_folder)\n",
    "        \n",
    "    \n",
    "    self.video_target_path = file_path\n",
    "    return True\n",
    "\n",
    "\n",
    "import types\n",
    "source.set_video_target = types.MethodType( set_video_target, source )\n"
   ]
  },
  {
   "cell_type": "code",
   "execution_count": 14,
   "metadata": {},
   "outputs": [
    {
     "data": {
      "text/plain": [
       "True"
      ]
     },
     "execution_count": 14,
     "metadata": {},
     "output_type": "execute_result"
    }
   ],
   "source": [
    "p = Path('D:/Github/retinal_flow_toolkit/pupil_labs_data/GD-Short-Driving-Video/S001/PupilData/007/exports/003/world_nvidia2_hsv_overlay.mp4').as_posix()\n",
    "# p = Path('D:\\Github\\retinal_flow_toolkit\\pupil_labs_data\\GD-Short-Driving-Video\\S001\\PupilData\\007\\world.mp4').as_posix()\n",
    "# p = Path('D:\\Github\\retinal_flow_toolkit\\flow_out\\yoyo_640_480_60hz_2\\yoyo_640_480_60hz_2_nvidia2_hsv_overlay.mp4').as_posix()\n",
    "\n",
    "source.set_video_target(p)"
   ]
  },
  {
   "cell_type": "code",
   "execution_count": 15,
   "metadata": {},
   "outputs": [],
   "source": [
    "img_out_path = 'image_out/'\n",
    "\n",
    "if os.path.exists(img_out_path) is False:\n",
    "    os.mkdir(img_out_path)"
   ]
  },
  {
   "cell_type": "code",
   "execution_count": 16,
   "metadata": {},
   "outputs": [],
   "source": [
    "video = cv2.VideoCapture(source.video_target_path)"
   ]
  },
  {
   "cell_type": "code",
   "execution_count": 20,
   "metadata": {},
   "outputs": [
    {
     "name": "stdout",
     "output_type": "stream",
     "text": [
      "451\n"
     ]
    }
   ],
   "source": [
    "count = 0\n",
    "success = 1\n",
    "while success: #and count < 100:\n",
    "    \n",
    "    success, image = video.read()\n",
    "    \n",
    "    if success:\n",
    "        cv2.imwrite(f\"{img_out_path}/{count}.jpg\", image)\n",
    "        \n",
    "    count = count + 1\n",
    "\n",
    "print(count)"
   ]
  },
  {
   "cell_type": "code",
   "execution_count": 21,
   "metadata": {},
   "outputs": [
    {
     "data": {
      "text/plain": [
       "False"
      ]
     },
     "execution_count": 21,
     "metadata": {},
     "output_type": "execute_result"
    }
   ],
   "source": [
    "success"
   ]
  },
  {
   "cell_type": "code",
   "execution_count": 22,
   "metadata": {},
   "outputs": [
    {
     "ename": "error",
     "evalue": "OpenCV(4.6.0) D:\\OpenCVGPU\\opencv-4.6.0\\modules\\imgproc\\src\\color.cpp:182: error: (-215:Assertion failed) !_src.empty() in function 'cv::cvtColor'\n",
     "output_type": "error",
     "traceback": [
      "\u001b[1;31m---------------------------------------------------------------------------\u001b[0m",
      "\u001b[1;31merror\u001b[0m                                     Traceback (most recent call last)",
      "\u001b[1;32m~\\AppData\\Local\\Temp\\ipykernel_9020\\1474530529.py\u001b[0m in \u001b[0;36m<cell line: 2>\u001b[1;34m()\u001b[0m\n\u001b[0;32m      1\u001b[0m \u001b[1;31m# success, image = video.read()\u001b[0m\u001b[1;33m\u001b[0m\u001b[1;33m\u001b[0m\u001b[1;33m\u001b[0m\u001b[0m\n\u001b[1;32m----> 2\u001b[1;33m \u001b[0mplt\u001b[0m\u001b[1;33m.\u001b[0m\u001b[0mimshow\u001b[0m\u001b[1;33m(\u001b[0m\u001b[0mcv2\u001b[0m\u001b[1;33m.\u001b[0m\u001b[0mcvtColor\u001b[0m\u001b[1;33m(\u001b[0m\u001b[0mimage\u001b[0m\u001b[1;33m,\u001b[0m \u001b[0mcv2\u001b[0m\u001b[1;33m.\u001b[0m\u001b[0mCOLOR_BGR2RGB\u001b[0m\u001b[1;33m)\u001b[0m\u001b[1;33m)\u001b[0m\u001b[1;33m\u001b[0m\u001b[1;33m\u001b[0m\u001b[0m\n\u001b[0m",
      "\u001b[1;31merror\u001b[0m: OpenCV(4.6.0) D:\\OpenCVGPU\\opencv-4.6.0\\modules\\imgproc\\src\\color.cpp:182: error: (-215:Assertion failed) !_src.empty() in function 'cv::cvtColor'\n"
     ]
    }
   ],
   "source": [
    "# success, image = video.read()\n",
    "plt.imshow(cv2.cvtColor(image, cv2.COLOR_BGR2RGB))"
   ]
  },
  {
   "cell_type": "code",
   "execution_count": null,
   "metadata": {},
   "outputs": [],
   "source": [
    "hsv_image = cv2.cvtColor(image, cv2.COLOR_BGR2HSV)\n",
    "h = hsv_image[...,0]\n",
    "s = hsv_image[...,1]\n",
    "v = hsv_image[...,2]"
   ]
  },
  {
   "cell_type": "code",
   "execution_count": null,
   "metadata": {},
   "outputs": [],
   "source": [
    "hue_flat = h.flatten()\n",
    "# hue_flat[np.where(s.flatten()==0)[0]] = 0 \n",
    "# hue_flat = hue_flat # map to 360\n",
    "hue_flat = hue_flat[hue_flat>0] \n",
    "#scaled_hue = hue_flat * v.flatten()[h.flatten()>0]"
   ]
  },
  {
   "cell_type": "code",
   "execution_count": null,
   "metadata": {},
   "outputs": [],
   "source": [
    "hist_params = (4*2, 0, 360)\n",
    "counts, bins = np.histogram(hue_flat*2.0, hist_params[0], (hist_params[1], hist_params[2]),density=True);\n",
    "plt.bar(bins[:-1], height=counts, width=.9*(bins[1]-bins[0]));"
   ]
  },
  {
   "cell_type": "code",
   "execution_count": null,
   "metadata": {},
   "outputs": [],
   "source": [
    "ax = plt.subplot(111, polar=True)\n",
    "bars = ax.bar(bins[:-1], counts, bottom=0.0)\n",
    "ax.set_ylim(.002)\n",
    "plt.show()"
   ]
  },
  {
   "cell_type": "code",
   "execution_count": null,
   "metadata": {},
   "outputs": [],
   "source": [
    "hue_flat"
   ]
  },
  {
   "cell_type": "code",
   "execution_count": null,
   "metadata": {},
   "outputs": [],
   "source": [
    "from collections import deque\n",
    "\n",
    "buffer_len = 10\n",
    "counts = deque(np.zeros(16), buffer_len)\n",
    "counts.appendleft(np.ones(16))\n",
    "counts\n",
    "\n"
   ]
  },
  {
   "cell_type": "code",
   "execution_count": null,
   "metadata": {},
   "outputs": [],
   "source": [
    "np.ones(16)"
   ]
  }
 ],
 "metadata": {
  "kernelspec": {
   "display_name": "PyCharm (retinal_flow_toolkit)",
   "language": "python",
   "name": "pycharm-87d68fc0"
  },
  "language_info": {
   "codemirror_mode": {
    "name": "ipython",
    "version": 3
   },
   "file_extension": ".py",
   "mimetype": "text/x-python",
   "name": "python",
   "nbconvert_exporter": "python",
   "pygments_lexer": "ipython3",
   "version": "3.8.15"
  }
 },
 "nbformat": 4,
 "nbformat_minor": 1
}
