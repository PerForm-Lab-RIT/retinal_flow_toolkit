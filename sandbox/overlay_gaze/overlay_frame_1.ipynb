{
 "cells": [
  {
   "cell_type": "code",
   "execution_count": 1,
   "metadata": {},
   "outputs": [],
   "source": [
    "# 2023 Gabriel J. Diaz @ RIT\n",
    "\n",
    "import os\n",
    "import sys\n",
    "import numpy as np\n",
    "import av\n",
    "import logging\n",
    "import pickle\n",
    "from tqdm import tqdm\n",
    "\n",
    "\n",
    "\n",
    "\n",
    "import matplotlib.pyplot as plt\n",
    "from matplotlib.backends.backend_agg import FigureCanvasAgg as FigureCanvas\n",
    "from pathlib import Path, PurePath\n",
    "\n",
    "logger = logging.getLogger(__name__)\n",
    "logger.addHandler(logging.StreamHandler(stream=sys.stdout))"
   ]
  },
  {
   "cell_type": "code",
   "execution_count": 17,
   "metadata": {},
   "outputs": [],
   "source": [
    "import sys\n",
    "sys.path.append('../..')\n",
    "\n",
    "# from retinal_flow_toolkit import .flow_source\n",
    "from flow_source import *"
   ]
  },
  {
   "cell_type": "code",
   "execution_count": 18,
   "metadata": {},
   "outputs": [
    {
     "data": {
      "text/plain": [
       "['/Users/gjdpci/Documents/GitHub/retinal_flow_toolkit/sandbox/overlay_gaze',\n",
       " '/Users/gjdpci/opt/anaconda3/envs/Pytorch_1/lib/python38.zip',\n",
       " '/Users/gjdpci/opt/anaconda3/envs/Pytorch_1/lib/python3.8',\n",
       " '/Users/gjdpci/opt/anaconda3/envs/Pytorch_1/lib/python3.8/lib-dynload',\n",
       " '',\n",
       " '/Users/gjdpci/opt/anaconda3/envs/Pytorch_1/lib/python3.8/site-packages',\n",
       " '/Users/gjdpci/opt/anaconda3/envs/Pytorch_1/lib/python3.8/site-packages/IPython/extensions',\n",
       " '/Users/gjdpci/.ipython',\n",
       " '..',\n",
       " '..',\n",
       " '..',\n",
       " '..',\n",
       " '../..',\n",
       " 'core',\n",
       " '../..']"
      ]
     },
     "execution_count": 18,
     "metadata": {},
     "output_type": "execute_result"
    }
   ],
   "source": [
    "os.getcwd()\n",
    "sys.path"
   ]
  },
  {
   "cell_type": "code",
   "execution_count": 23,
   "metadata": {},
   "outputs": [],
   "source": [
    "    \n",
    "# file_path = Path('D:\\\\Github\\\\retinal_flow_toolkit\\\\videos\\\\Yoyo-LVRA.mp4')\n",
    "\n",
    "a_file_path = Path(os.path.join('../../pupil_labs_videos/cb13'))\n"
   ]
  },
  {
   "cell_type": "code",
   "execution_count": 25,
   "metadata": {},
   "outputs": [],
   "source": [
    "# a_file_path = os.path.join(\"pupil_labs_data\", \"GD-Short-Driving-Video\")\n",
    "\n",
    "source = pupil_labs_source(a_file_path)\n",
    "\n"
   ]
  },
  {
   "cell_type": "code",
   "execution_count": 21,
   "metadata": {},
   "outputs": [],
   "source": [
    "container_in = av.open(file_path.as_posix())\n",
    "average_fps = container_in.streams.video[0].average_rate\n",
    "num_frames = container_in.streams.video[0].frames\n",
    "time_base = container_in.streams.video[0].time_base\n",
    "encoded_frame_count = container_in.streams.video[0].encoded_frame_count\n",
    "container_in.sort_dts = True\n",
    "container_in.flush_packets = True\n",
    "\n",
    "container_out = av.open('gaze_overlay_on_flow.mp4', mode=\"w\", timeout = None)\n",
    "\n",
    "\n",
    "stream = container_out.add_stream(\"libx264\", framerate = average_fps)\n",
    "\n",
    "#stream = container_out.add_stream(\"h264_nvenc\", framerate = average_fps) Throws pts/dts related errors.\n",
    "#stream = container_out.add_stream(\"hevc_nvenc\", framerate = average_fps) Throws pts/dts related errors.\n",
    "\n",
    "stream.options[\"crf\"] = \"10\"\n",
    "stream.pix_fmt = container_in.streams.video[0].pix_fmt\n",
    "stream.time_base = container_in.streams.video[0].time_base"
   ]
  },
  {
   "cell_type": "code",
   "execution_count": null,
   "metadata": {
    "scrolled": false
   },
   "outputs": [],
   "source": [
    "# stream.codec_context.time_base = container_in.streams.video[0].codec_context.time_base\n",
    "# stream.codec_context.skip_frame = \"NONKEY\"\n",
    "\n",
    "pts = []\n",
    "dts = []\n",
    "frame_time_base = []\n",
    "relative_time = []\n",
    "\n",
    "# for raw_frame in container_in.decode(video=0):\n",
    "for raw_frame in tqdm(container_in.decode(video=0), desc=\"Working.\", unit= 'frames',total = num_frames):\n",
    "        \n",
    "    pts.append(raw_frame.pts)\n",
    "    dts.append(raw_frame.dts)\n",
    "    frame_time_base.append(raw_frame.time_base)\n",
    "    relative_time.append( np.float32(raw_frame.pts * raw_frame.time_base) )\n",
    "    \n",
    "    for packet in stream.encode(raw_frame):\n",
    "        packet.stream = stream\n",
    "        packet.time_base = time_base\n",
    "        packet.pts = raw_frame.pts\n",
    "        container_out.mux(packet)\n",
    "\n",
    "for packet in stream.encode():\n",
    "    packet.stream = stream\n",
    "    packet.time_base = time_base\n",
    "    packet.pts = raw_frame.pts\n",
    "    container_out.mux(packet)\n",
    "\n",
    "container_out.close()\n",
    "container_in.close()"
   ]
  },
  {
   "cell_type": "code",
   "execution_count": null,
   "metadata": {},
   "outputs": [],
   "source": [
    "# container_in = av.open('vid_out.mp4')\n",
    "container_in = av.open('vid_out.mp4', mode=\"r\", timeout = None)\n",
    "time_base_out = container_in.streams.video[0].time_base\n",
    "num_frames = container_in.streams.video[0].frames\n",
    "\n",
    "pts_out = []\n",
    "dts_out = []\n",
    "frame_time_base_out = []\n",
    "relative_time_out = []\n",
    "\n",
    "count = 0\n",
    "#for raw_frame in container_in.decode(video=0):\n",
    "for raw_frame in tqdm(container_in.decode(video=0), desc=\"Working.\", unit= 'frames',total = num_frames):\n",
    "\n",
    "    pts_out.append(raw_frame.pts)\n",
    "    dts_out.append(raw_frame.dts)\n",
    "    frame_time_base_out.append(raw_frame.time_base)\n",
    "    relative_time_out.append( np.float32(raw_frame.pts * raw_frame.time_base) )\n",
    "    count = count+1\n",
    "    \n",
    "container_in.close()\n",
    "print( count)"
   ]
  },
  {
   "cell_type": "code",
   "execution_count": null,
   "metadata": {},
   "outputs": [],
   "source": [
    "print('Len pts:     {}'.format(len(pts)))\n",
    "print('Len pts_out: {}'.format(len(pts_out)))"
   ]
  },
  {
   "cell_type": "code",
   "execution_count": null,
   "metadata": {},
   "outputs": [],
   "source": [
    "dts = np.array(dts,dtype=np.float32)\n",
    "dts_out = np.array(dts_out,dtype=np.float32)\n",
    "\n",
    "fig, ax = plt.subplots(figsize=(15, 10), layout='constrained',dpi=300)\n",
    "\n",
    "plt.subplot(2,2,1)\n",
    "plt.plot(np.arange(0,len(pts)) ,np.array(pts) * float(time_base),'r')\n",
    "plt.plot(np.arange(0,len(pts_out)) ,np.array(pts_out) * float(time_base_out),':b')\n",
    "plt.ylabel('time')\n",
    "plt.xlabel('pts * time_base')\n",
    "\n",
    "plt.subplot(2,2,2)\n",
    "plt.plot( relative_time,'r')\n",
    "plt.plot( relative_time_out,':b')\n",
    "plt.ylabel('time')\n",
    "plt.xlabel('relative time')\n",
    "\n",
    "plt.subplot(2,2,3)\n",
    "plt.plot(np.arange(0,len(dts)) ,np.array(dts) * float(time_base),'r')\n",
    "plt.plot(np.arange(0,len(dts_out)) ,np.array(dts_out) * float(time_base_out),':b')\n",
    "plt.ylabel('time')\n",
    "plt.xlabel('dts * time_base')\n",
    "\n",
    "\n",
    "plt.subplot(2,2,4)\n",
    "plt.plot(np.arange(0,len(frame_time_base)),frame_time_base,'r')\n",
    "plt.plot(np.arange(0,len(frame_time_base_out)),frame_time_base_out,':b')\n",
    "plt.ylabel('time')\n",
    "plt.xlabel('frame_time_base')\n",
    "\n",
    "plt.savefig( 'frame_timings.png')\n",
    "\n",
    "pickle_out = 'frame_timings.pkl'\n",
    "dbfile = open(pickle_out, 'wb')\n",
    "data_out_dict = {\"pts\":pts, \"pts_out\":pts_out,\"dts\":dts,\"dts_out\":dts_out,\"relative_time\":relative_time, \"relative_time_out\":relative_time_out}\n",
    "pickle.dump( data_out_dict, dbfile)\n",
    "dbfile.close()"
   ]
  },
  {
   "cell_type": "code",
   "execution_count": null,
   "metadata": {},
   "outputs": [],
   "source": [
    "dts = np.array(dts,dtype=np.float32)\n",
    "dts_out = np.array(dts_out,dtype=np.float32)\n",
    "\n",
    "fig, ax = plt.subplots(figsize=(15, 10), layout='constrained',dpi=300)\n",
    "\n",
    "# plt.subplot(2,2,1)\n",
    "plt.plot(np.arange(0,len(pts)) ,np.array(pts) * float(time_base),'r')\n",
    "\n",
    "plt.plot(np.arange(0,len(pts_out)) ,np.array(pts_out) * float(time_base_out),':b')\n",
    "plt.ylabel('time')\n",
    "plt.xlabel('pts * time_base')\n"
   ]
  },
  {
   "cell_type": "code",
   "execution_count": null,
   "metadata": {},
   "outputs": [],
   "source": [
    "np.array(pts[:5]) * float(time_base)"
   ]
  },
  {
   "cell_type": "code",
   "execution_count": null,
   "metadata": {},
   "outputs": [],
   "source": [
    "np.array(pts_out[:5]) * float(time_base)"
   ]
  },
  {
   "cell_type": "code",
   "execution_count": null,
   "metadata": {},
   "outputs": [],
   "source": [
    "pts[0] * float(time_base)"
   ]
  },
  {
   "cell_type": "code",
   "execution_count": null,
   "metadata": {},
   "outputs": [],
   "source": [
    "pts_out[0] * float(time_base)"
   ]
  },
  {
   "cell_type": "code",
   "execution_count": null,
   "metadata": {},
   "outputs": [],
   "source": [
    "container_in = av.open(file_path.as_posix())\n",
    "container_out = av.open('vid_out.mp4')"
   ]
  },
  {
   "cell_type": "code",
   "execution_count": null,
   "metadata": {},
   "outputs": [],
   "source": [
    "\n",
    "print('Time base A ' + str( container_in.streams.video[0].time_base))\n",
    "print('Time base B ' + str(container_out.streams.video[0].time_base))\n",
    "\n",
    "print('Num frames A ' + str(container_in.streams.video[0].frames))\n",
    "print('Num frames B ' + str(container_out.streams.video[0].frames))\n",
    "\n",
    "print('Avg rate A ' + str(container_in.streams.video[0].average_rate))\n",
    "print('Avg rate B ' + str(container_out.streams.video[0].average_rate))\n",
    "\n",
    "print('Start time A: ' + str(container_in.start_time))\n",
    "print('Start time B: ' + str(container_out.start_time))\n",
    "\n",
    "print('Duration A: ' + str(container_in.duration))\n",
    "print('Duration B: ' + str(container_out.duration))\n"
   ]
  },
  {
   "cell_type": "code",
   "execution_count": null,
   "metadata": {},
   "outputs": [],
   "source": [
    "container_out.streams.video[0]"
   ]
  },
  {
   "cell_type": "code",
   "execution_count": null,
   "metadata": {},
   "outputs": [],
   "source": [
    "container_in.streams.video[0]"
   ]
  },
  {
   "cell_type": "code",
   "execution_count": null,
   "metadata": {},
   "outputs": [],
   "source": [
    "\n",
    "container_out.close()\n",
    "container_in.close()"
   ]
  },
  {
   "cell_type": "code",
   "execution_count": null,
   "metadata": {},
   "outputs": [],
   "source": []
  }
 ],
 "metadata": {
  "kernelspec": {
   "display_name": "Python 3 (ipykernel)",
   "language": "python",
   "name": "python3"
  },
  "language_info": {
   "codemirror_mode": {
    "name": "ipython",
    "version": 3
   },
   "file_extension": ".py",
   "mimetype": "text/x-python",
   "name": "python",
   "nbconvert_exporter": "python",
   "pygments_lexer": "ipython3",
   "version": "3.8.13"
  }
 },
 "nbformat": 4,
 "nbformat_minor": 1
}
